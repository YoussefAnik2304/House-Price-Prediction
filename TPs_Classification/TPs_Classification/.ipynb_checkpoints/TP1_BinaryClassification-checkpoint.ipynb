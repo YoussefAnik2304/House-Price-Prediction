{
 "cells": [
  {
   "cell_type": "markdown",
   "id": "5d1ea1d2",
   "metadata": {},
   "source": [
    "# TP1: Binary Classification\n"
   ]
  },
  {
   "cell_type": "markdown",
   "id": "ab0f2a80",
   "metadata": {},
   "source": [
    "La classification binaire est une forme de classification - le processus de prédiction des variables catégorielles - où la sortie est limitée à deux classes.\n",
    "\n",
    "#### Exemple:\n",
    "\n",
    "Dans le diagnostic médical, un classifieur binaire pour une maladie spécifique pourrait prendre en compte les symptômes d'un patient et prédire si le patient est en bonne santé ou il est diabétique. Les résultats possibles du diagnostic sont positifs et négatifs.\n",
    "\n",
    "![Binary Classification](images/BinaryClassification.png)"
   ]
  },
  {
   "cell_type": "markdown",
   "id": "ea249200",
   "metadata": {},
   "source": [
    "### Objectif: Prédire si un patient est atteint ou non de cancer? \n",
    "\n",
    "Nous utiliserons les données du cancer sur la taille des tumeurs pour prédire si une tumeur est maligne ou non. Pour cet exemple, nous utiliserons la régression logistique, qui est l'un des algorithmes permettant d'effectuer une classification binaire. Les données et l'algorithme sont disponibles dans la bibliothèque sklearn."
   ]
  },
  {
   "cell_type": "code",
   "execution_count": null,
   "id": "fbcb6c75",
   "metadata": {},
   "outputs": [],
   "source": [
    "### Import and Load Data\n",
    "from sklearn import datasets\n",
    "\n",
    "dataset = datasets.load_breast_cancer()\n",
    "\n",
    "list(dataset.keys())"
   ]
  },
  {
   "cell_type": "code",
   "execution_count": null,
   "id": "4a1caed2",
   "metadata": {},
   "outputs": [],
   "source": [
    "###Dataset Description\n",
    "\n",
    "print(dataset.DESCR)"
   ]
  },
  {
   "cell_type": "code",
   "execution_count": null,
   "id": "430daf56",
   "metadata": {},
   "outputs": [],
   "source": [
    "import numpy as np\n",
    "\n",
    "print('Target variables  : ', dataset['target_names'])\n",
    "\n",
    "(unique, counts) = np.unique(dataset['target'], return_counts=True)\n",
    "\n",
    "print('Unique values of the target variable', unique)\n",
    "print('Counts of the target variable :', counts)"
   ]
  },
  {
   "cell_type": "code",
   "execution_count": null,
   "id": "ea3f41d4",
   "metadata": {},
   "outputs": [],
   "source": [
    "import seaborn as sns\n",
    "import matplotlib.pyplot as plt\n",
    "\n",
    "sns.barplot(x=dataset['target_names'], y=counts)\n",
    "plt.title('Target variable counts in dataset')\n",
    "plt.show()"
   ]
  },
  {
   "cell_type": "markdown",
   "id": "11302caa",
   "metadata": {},
   "source": [
    "## Classification binaire avec Logistic Regression\n",
    "\n",
    "Dans cet ensemble de données, nous avons deux classes : maligne notée 1 et bénigne notée 0, ce qui en fait un problème de classification binaire.\n",
    "\n",
    "Pour effectuer une classification binaire à l'aide de la régression logistique avec sklearn, nous devons accomplir les étapes suivantes:"
   ]
  },
  {
   "cell_type": "markdown",
   "id": "75a6c286",
   "metadata": {},
   "source": [
    "### Étape 1 : Définir les variables explicatives X et la variable cible y"
   ]
  },
  {
   "cell_type": "code",
   "execution_count": null,
   "id": "e40951e1",
   "metadata": {},
   "outputs": [],
   "source": [
    "# Complétez le code\n",
    "X = \n",
    "y = \n"
   ]
  },
  {
   "cell_type": "markdown",
   "id": "ac10120a",
   "metadata": {},
   "source": [
    "### Étape 2 : Appliquer l'opération de normalisation "
   ]
  },
  {
   "cell_type": "code",
   "execution_count": null,
   "id": "d7e2bd19",
   "metadata": {},
   "outputs": [],
   "source": [
    "from sklearn.preprocessing import StandardScaler\n",
    "# Complétez le code"
   ]
  },
  {
   "cell_type": "markdown",
   "id": "60ad9fcd",
   "metadata": {},
   "source": [
    "### Étape 3 : Diviser l'ensemble de données en ensembles de formation et de test"
   ]
  },
  {
   "cell_type": "code",
   "execution_count": null,
   "id": "e96cae6e",
   "metadata": {},
   "outputs": [],
   "source": [
    "# Complétez le code\n",
    "from sklearn.model_selection import train_test_split\n",
    "\n",
    "X_train, X_test, y_train, y_test = train_test_split(X, y , test_size=0.25, random_state=0)\n"
   ]
  },
  {
   "cell_type": "markdown",
   "id": "db89458e",
   "metadata": {},
   "source": [
    "### Étape 4 : Ajuster un modèle de régression logistique aux données du train"
   ]
  },
  {
   "cell_type": "code",
   "execution_count": null,
   "id": "5c18dc27",
   "metadata": {},
   "outputs": [],
   "source": [
    "from sklearn.linear_model import LogisticRegression\n",
    "# Cpmlétez le code\n",
    "log_reg =\n",
    "\n"
   ]
  },
  {
   "cell_type": "markdown",
   "id": "7138dc27",
   "metadata": {},
   "source": [
    "### Étape 5 : Faire des prédictions sur les données de test"
   ]
  },
  {
   "cell_type": "code",
   "execution_count": null,
   "id": "d0603c9e",
   "metadata": {},
   "outputs": [],
   "source": [
    "# Complétez le code  en utilisant la fonction predict et aussi la fonction predict_proba qui retourne les probs\n",
    "\n",
    "y_pred = \n",
    "print(y_pred)\n"
   ]
  },
  {
   "cell_type": "code",
   "execution_count": null,
   "id": "74847055",
   "metadata": {},
   "outputs": [],
   "source": [
    "# Complétez le code  en utilisant la fonction predict_proba qui retourne les probs\n",
    "y_proba = \n",
    "\n",
    "print(y_proba)"
   ]
  },
  {
   "cell_type": "markdown",
   "id": "f35cc32a",
   "metadata": {},
   "source": [
    "### Étape 6: Evaluation de la perfomance du modèle"
   ]
  },
  {
   "cell_type": "markdown",
   "id": "218523d3",
   "metadata": {},
   "source": [
    "### Accuracy  Score\n",
    "sklearn.metrics.accuracy_score(y_true, y_pred, *, normalize=True, sample_weight=None)"
   ]
  },
  {
   "cell_type": "code",
   "execution_count": null,
   "id": "6abbbcfb",
   "metadata": {},
   "outputs": [],
   "source": [
    "from sklearn.metrics import accuracy_score\n",
    "\n",
    "accuracy_score(y_test, y_pred)"
   ]
  },
  {
   "cell_type": "markdown",
   "id": "b2ecbb5d",
   "metadata": {},
   "source": [
    "#### Confusion Matrix\n",
    "\n",
    "Tableau qui décrit la performance d'un modèle de classification"
   ]
  },
  {
   "cell_type": "code",
   "execution_count": null,
   "id": "2c67d33d",
   "metadata": {},
   "outputs": [],
   "source": [
    "from sklearn.metrics import confusion_matrix\n",
    "\n",
    "cm = confusion_matrix(y_test, y_pred)\n",
    "\n",
    "print(cm)\n"
   ]
  },
  {
   "cell_type": "code",
   "execution_count": null,
   "id": "7e4a41eb",
   "metadata": {},
   "outputs": [],
   "source": [
    "import pandas as pd\n",
    "\n",
    "df_cm = pd.DataFrame(cm, columns=np.unique(y_test), index = np.unique(y_test))\n",
    "df_cm.index.name = 'Actual'\n",
    "df_cm.columns.name = 'Predicted'\n",
    "\n",
    "plt.figure(figsize = (2,2))\n",
    "sns.set(font_scale=1.4)#for label size\n",
    "plt.title('Confusion Matrix')\n",
    "sns.heatmap(df_cm, annot=True,annot_kws={\"size\": 12})# font size"
   ]
  },
  {
   "cell_type": "code",
   "execution_count": null,
   "id": "8e68dde2",
   "metadata": {},
   "outputs": [],
   "source": [
    "TN, FP, FN, TP = confusion_matrix(y_test, y_pred).ravel()\n",
    "\n",
    "print('True Positive(TP)  = ', TP)\n",
    "print('False Positive(FP) = ', FP)\n",
    "print('True Negative(TN)  = ', TN)\n",
    "print('False Negative(FN) = ', FN)"
   ]
  },
  {
   "cell_type": "markdown",
   "id": "0b113bf8",
   "metadata": {},
   "source": [
    "#### Accuracy:"
   ]
  },
  {
   "cell_type": "code",
   "execution_count": null,
   "id": "3c35eca2",
   "metadata": {},
   "outputs": [],
   "source": [
    "# Calculez l'accuracy en utilisant les différents types d'erreur\n",
    "accuracy =  \n",
    "\n",
    "print('Accuracy  = {:0.3f}'.format(accuracy))"
   ]
  },
  {
   "cell_type": "markdown",
   "id": "57cf4fd6",
   "metadata": {},
   "source": [
    "#### Precision: "
   ]
  },
  {
   "cell_type": "code",
   "execution_count": null,
   "id": "112f000d",
   "metadata": {},
   "outputs": [],
   "source": [
    "# Calculez Precision en utilisant les différents types d'erreur\n",
    "precision=\n",
    "\n",
    "print('Precision = {:0.3f}'.format(precision))"
   ]
  },
  {
   "cell_type": "markdown",
   "id": "eb45865e",
   "metadata": {},
   "source": [
    "#### Recall:"
   ]
  },
  {
   "cell_type": "code",
   "execution_count": null,
   "id": "69406b96",
   "metadata": {},
   "outputs": [],
   "source": [
    "# Calculez Recall en utilisant les différents types d'erreur\n",
    "\n",
    "recall=TP/(TP+FN)\n",
    "print('recall = {:0.3f}'.format(recall))"
   ]
  },
  {
   "cell_type": "markdown",
   "id": "94fdf73b",
   "metadata": {},
   "source": [
    "#### F1_measure:"
   ]
  },
  {
   "cell_type": "code",
   "execution_count": null,
   "id": "f4339481",
   "metadata": {},
   "outputs": [],
   "source": [
    "## Calculez F1_measure\n",
    "F1_measure=\n",
    "\n",
    "print('F1_measure = {:0.3f}'.format(F1_measure))"
   ]
  },
  {
   "cell_type": "code",
   "execution_count": null,
   "id": "2915dc83",
   "metadata": {},
   "outputs": [],
   "source": [
    "# Utilisez les  sklearn.metrics pour vérifier les calculs\n",
    "\n",
    "from sklearn.metrics import precision_score, recall_score, f1_score\n",
    "\n",
    "print('Recall = {:0.3f}'.format(recall_score(y_test, y_pred)))\n",
    "print('Precision = {:0.3f}'.format(precision_score(y_test, y_pred)))\n",
    "print('F1_measure = {:0.3f}'.format(f1_score(y_test, y_pred)))"
   ]
  },
  {
   "cell_type": "markdown",
   "id": "1924fd27",
   "metadata": {},
   "source": [
    "### Étape 7: Comparer notre modèle avec d'autres classifieurs binaires dans la bibliothèque Scikit-Learn"
   ]
  },
  {
   "cell_type": "code",
   "execution_count": null,
   "id": "dfed34af",
   "metadata": {},
   "outputs": [],
   "source": [
    "models = {}\n",
    "\n",
    "# Logistic Regression\n",
    "from sklearn.linear_model import LogisticRegression\n",
    "models['Logistic Regression'] = LogisticRegression()\n",
    "\n",
    "# Support Vector Machines\n",
    "from sklearn.svm import LinearSVC\n",
    "models['Support Vector Machines'] = LinearSVC()\n",
    "\n",
    "# Decision Trees\n",
    "from sklearn.tree import DecisionTreeClassifier\n",
    "models['Decision Trees'] = DecisionTreeClassifier()\n",
    "\n",
    "# Random Forest\n",
    "from sklearn.ensemble import RandomForestClassifier\n",
    "models['Random Forest'] = RandomForestClassifier()\n",
    "\n",
    "# Naive Bayes\n",
    "from sklearn.naive_bayes import GaussianNB\n",
    "models['Naive Bayes'] = GaussianNB()\n",
    "\n",
    "# K-Nearest Neighbors\n",
    "from sklearn.neighbors import KNeighborsClassifier\n",
    "models['K-Nearest Neighbor'] = KNeighborsClassifier()"
   ]
  },
  {
   "cell_type": "code",
   "execution_count": null,
   "id": "971bf9e3",
   "metadata": {},
   "outputs": [],
   "source": [
    "accuracy, precision, recall = {}, {}, {}\n",
    "\n",
    "for key in models.keys():\n",
    "    \n",
    "    # Fit the classifier model\n",
    "    models[key].fit(X_train, y_train)\n",
    "    \n",
    "    # Prediction \n",
    "    predictions = models[key].predict(X_test)\n",
    "    \n",
    "    # Calculate Accuracy, Precision and Recall Metrics\n",
    "    accuracy[key] = accuracy_score(predictions, y_test)\n",
    "    precision[key] = precision_score(predictions, y_test)\n",
    "    recall[key] = recall_score(predictions, y_test)"
   ]
  },
  {
   "cell_type": "code",
   "execution_count": null,
   "id": "b04490e8",
   "metadata": {},
   "outputs": [],
   "source": [
    "import pandas as pd\n",
    "\n",
    "df_model = pd.DataFrame(index=models.keys(), columns=['Accuracy', 'Precision', 'Recall'])\n",
    "df_model['Accuracy'] = accuracy.values()\n",
    "df_model['Precision'] = precision.values()\n",
    "df_model['Recall'] = recall.values()\n",
    "\n",
    "df_model"
   ]
  },
  {
   "cell_type": "code",
   "execution_count": null,
   "id": "02d2f542",
   "metadata": {},
   "outputs": [],
   "source": [
    "ax  = df_model.plot.bar(rot=45)\n",
    "ax.legend(ncol= len(models.keys()), bbox_to_anchor=(0, 1), loc='lower left', prop={'size': 14})\n",
    "plt.tight_layout()"
   ]
  },
  {
   "cell_type": "markdown",
   "id": "38845ac5",
   "metadata": {},
   "source": [
    "#### Remarque\n",
    "\n",
    "Il est important de noter que puisque les paramètres par défaut sont utilisés pour les modèles, il est difficile de décider quel classifieur est le meilleur. Chaque algorithme doit être analysé avec soin et les paramètres optimaux doivent être sélectionnés pour avoir de meilleures performances."
   ]
  },
  {
   "cell_type": "markdown",
   "id": "3cd7bff2",
   "metadata": {},
   "source": [
    "## Exercice:\n",
    "\n",
    "\n",
    "L’objectif de l'exercice est de prédire si un patient est atteint ou non de diabète sur la base de certaines mesures diagnostiques incluses dans le jeu de données [Pima Indians Diabetes dataset](https://www.kaggle.com/uciml/pima-indians-diabetes-database) . "
   ]
  },
  {
   "cell_type": "code",
   "execution_count": null,
   "id": "17b59d70",
   "metadata": {},
   "outputs": [],
   "source": []
  }
 ],
 "metadata": {
  "kernelspec": {
   "display_name": "Python 3 (ipykernel)",
   "language": "python",
   "name": "python3"
  },
  "language_info": {
   "codemirror_mode": {
    "name": "ipython",
    "version": 3
   },
   "file_extension": ".py",
   "mimetype": "text/x-python",
   "name": "python",
   "nbconvert_exporter": "python",
   "pygments_lexer": "ipython3",
   "version": "3.9.7"
  }
 },
 "nbformat": 4,
 "nbformat_minor": 5
}
