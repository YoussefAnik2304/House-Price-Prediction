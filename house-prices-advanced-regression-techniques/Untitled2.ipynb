{
 "cells": [
  {
   "cell_type": "markdown",
   "id": "06099172-731c-4deb-a1d2-ffe72052b430",
   "metadata": {},
   "source": [
    "IMPORTING LIBRAIRIES"
   ]
  },
  {
   "cell_type": "code",
   "execution_count": 1,
   "id": "9820f6b6-73f2-4bac-bc1e-e897ace08394",
   "metadata": {
    "tags": []
   },
   "outputs": [],
   "source": [
    "import pandas as pd \n",
    "import numpy as np \n",
    "import matplotlib.pyplot as plt \n",
    "import seaborn as sns \n",
    "from sklearn.preprocessing import LabelEncoder\n",
    "from sklearn.neighbors import KNeighborsRegressor\n",
    "from sklearn.linear_model import LinearRegression\n",
    "from sklearn.ensemble import RandomForestRegressor"
   ]
  },
  {
   "cell_type": "markdown",
   "id": "fa4eb5aa-c4a2-4ce6-b54d-badc10677c94",
   "metadata": {},
   "source": [
    "IMPORTING DATA"
   ]
  },
  {
   "cell_type": "code",
   "execution_count": 2,
   "id": "17c0f342-4374-4628-a491-c715ad3bdefc",
   "metadata": {
    "tags": []
   },
   "outputs": [],
   "source": [
    "train_data=pd.read_csv('./train.csv')\n",
    "test_data=pd.read_csv('./test.csv')"
   ]
  },
  {
   "cell_type": "markdown",
   "id": "2bbddb8c-7758-4f1c-98e3-1e7e5aa28353",
   "metadata": {
    "tags": []
   },
   "source": [
    "HANDLING MISSING VALUES"
   ]
  },
  {
   "cell_type": "code",
   "execution_count": 3,
   "id": "5a507ad2-7c62-407a-91fc-2e2a9d16111f",
   "metadata": {
    "tags": []
   },
   "outputs": [
    {
     "name": "stdout",
     "output_type": "stream",
     "text": [
      "Id                 0\n",
      "MSSubClass         0\n",
      "MSZoning           0\n",
      "LotFrontage      259\n",
      "LotArea            0\n",
      "                ... \n",
      "MoSold             0\n",
      "YrSold             0\n",
      "SaleType           0\n",
      "SaleCondition      0\n",
      "SalePrice          0\n",
      "Length: 81, dtype: int64\n"
     ]
    }
   ],
   "source": [
    "def columns_with_many_nulls(dataframe):\n",
    "    null_counts = dataframe.isnull().sum()\n",
    "    return null_counts\n",
    "\n",
    "# Call the method passing your DataFrame as argument\n",
    "columns_with_many_nulls = columns_with_many_nulls(train_data)\n",
    "\n",
    "# Display columns with more than a certain number of null values\n",
    "print(columns_with_many_nulls)\n"
   ]
  },
  {
   "cell_type": "code",
   "execution_count": 4,
   "id": "199d0b6d-bd1c-4d3b-bfc0-a8d0aa6abc15",
   "metadata": {
    "tags": []
   },
   "outputs": [],
   "source": [
    "def handle_missing_values(df):\n",
    "    # Fill missing values for 'LotFrontage' column\n",
    "    df['LotFrontage'].fillna(df['LotFrontage'].mean().round(2), inplace=True)\n",
    "    df['MasVnrArea'].fillna(df['MasVnrArea'].mean().round(2), inplace=True)\n",
    "    df['GarageYrBlt'].fillna(0, inplace=True)\n",
    "    df['GarageArea'].fillna(0, inplace=True)\n",
    "    df['BsmtFinSF1'].fillna(0, inplace=True)\n",
    "    df['BsmtFinSF2'].fillna(0, inplace=True)\n",
    "    df['BsmtUnfSF'].fillna(0, inplace=True)\n",
    "    df['TotalBsmtSF'].fillna(0, inplace=True)\n",
    "    df['BsmtFullBath'].fillna(0, inplace=True)\n",
    "    df['BsmtHalfBath'].fillna(0, inplace=True)\n",
    "    df['GarageCars'].fillna(0, inplace=True)\n",
    "\n",
    "    # List of columns to fill missing values\n",
    "    columns_to_fill = [  'Alley', 'MasVnrType', 'FireplaceQu', 'PoolQC', 'Fence', 'MiscFeature']\n",
    "    \n",
    "    # Iterate over columns and fill missing values if the column exists\n",
    "    for column in columns_to_fill:\n",
    "        if column in df.columns:\n",
    "            df[column].fillna(f'No{column}', inplace=True)\n",
    "    \n",
    "    return df\n"
   ]
  },
  {
   "cell_type": "markdown",
   "id": "e066c413-2d78-450f-9492-e72263aa4485",
   "metadata": {},
   "source": [
    "FEATURE CLASSIFICATION"
   ]
  },
  {
   "cell_type": "code",
   "execution_count": 5,
   "id": "cf02d088-bb6a-475a-82c2-a2892e59f089",
   "metadata": {
    "tags": []
   },
   "outputs": [],
   "source": [
    "def convert_categorical_columns(dataframe):\n",
    "    for column in dataframe.columns:\n",
    "        if dataframe[column].dtype == 'object':\n",
    "            dataframe = dataframe.join(pd.get_dummies(dataframe[column], prefix=column)).drop([column], axis=1)\n",
    "    return dataframe"
   ]
  },
  {
   "cell_type": "code",
   "execution_count": 6,
   "id": "210f9881-80b3-4c28-9d26-c7c779b88012",
   "metadata": {
    "tags": []
   },
   "outputs": [],
   "source": [
    "def label_encode_boolean_variables(dataframe):\n",
    "    # Initialize LabelEncoder\n",
    "    label_encoder = LabelEncoder()\n",
    "\n",
    "    # Iterate over each column in the DataFrame\n",
    "    for column in dataframe.columns:\n",
    "        # Check if the column contains boolean values\n",
    "        if dataframe[column].dtype == bool:\n",
    "            # Apply label encoding to boolean variables\n",
    "            dataframe[column] = label_encoder.fit_transform(dataframe[column])\n",
    "\n",
    "    return dataframe"
   ]
  },
  {
   "cell_type": "markdown",
   "id": "0f97212d-73b9-444c-af9c-1731fbdfe813",
   "metadata": {},
   "source": [
    "FEATURE ENGINEERING"
   ]
  },
  {
   "cell_type": "code",
   "execution_count": 7,
   "id": "68c1d2c3-3de5-429a-9a1e-b3481e8b40b9",
   "metadata": {
    "tags": []
   },
   "outputs": [],
   "source": [
    "def add_additional_features(data):\n",
    "    # Calculate the age of the property\n",
    "    data['YearOld'] = 2024-data['YearBuilt'] \n",
    "    data['YearRemodOld'] = 2024 - data['YearRemodAdd'] \n",
    "    \n",
    "    # Calculate total square footage\n",
    "    data['TotalSquareFeet'] = data['1stFlrSF'] + data['2ndFlrSF'] + data['LowQualFinSF'] + data['GrLivArea']\n",
    "    \n",
    "    # Calculate total number of bathrooms\n",
    "    data['TotalBathrooms'] = data['BsmtFullBath'] + data['BsmtHalfBath'] + data['FullBath'] + data['HalfBath']\n",
    "    \n",
    "    # Assign total number of bedrooms\n",
    "    data['TotalBedrooms'] = data['BedroomAbvGr']\n",
    "    \n",
    "    # Calculate total number of rooms\n",
    "    data['TotalRooms'] = data['TotalBedrooms'] + data['TotalBathrooms'] + data['KitchenAbvGr']\n",
    "    \n",
    "    return data\n"
   ]
  },
  {
   "cell_type": "markdown",
   "id": "e2a5744e-336f-4505-97bd-d59ede552a75",
   "metadata": {},
   "source": [
    "Linear Regression"
   ]
  },
  {
   "cell_type": "code",
   "execution_count": 8,
   "id": "055b5549-4ccf-4c56-b4db-d69469d13c3d",
   "metadata": {
    "tags": []
   },
   "outputs": [],
   "source": [
    "# Concatenate training and test datasets\n",
    "combined_data = pd.concat([train_data, test_data], ignore_index=True)"
   ]
  },
  {
   "cell_type": "code",
   "execution_count": 9,
   "id": "6e9d3d51-f7a7-4419-9c79-1697974cb52c",
   "metadata": {
    "tags": []
   },
   "outputs": [],
   "source": [
    "# Handle missing values and encode categorical columns\n",
    "combined_data = handle_missing_values(combined_data)"
   ]
  },
  {
   "cell_type": "code",
   "execution_count": 10,
   "id": "940d6c5b-b907-45ee-9265-29452215bb12",
   "metadata": {
    "tags": []
   },
   "outputs": [],
   "source": [
    "combined_data = convert_categorical_columns(combined_data)"
   ]
  },
  {
   "cell_type": "code",
   "execution_count": 11,
   "id": "351fbc90-960f-45fc-a5a7-ecc334fbbdd8",
   "metadata": {
    "tags": []
   },
   "outputs": [],
   "source": [
    "combined_data = label_encode_boolean_variables(combined_data)"
   ]
  },
  {
   "cell_type": "code",
   "execution_count": 13,
   "id": "99a11c64-2554-4197-be68-62385f5cac65",
   "metadata": {
    "tags": []
   },
   "outputs": [],
   "source": [
    "combined_data = add_additional_features(combined_data)"
   ]
  },
  {
   "cell_type": "code",
   "execution_count": 14,
   "id": "2bf950b0-ea60-4702-ad72-12ea6229a046",
   "metadata": {
    "tags": []
   },
   "outputs": [],
   "source": [
    "combined_data = combined_data.join(pd.get_dummies(combined_data['MSSubClass'], prefix='MSSubClass')).drop(['MSSubClass'], axis=1)"
   ]
  },
  {
   "cell_type": "code",
   "execution_count": 15,
   "id": "5e802a9b-2e12-419b-8a64-7f87cf751d81",
   "metadata": {
    "tags": []
   },
   "outputs": [],
   "source": [
    "# Drop the target variable from the test set*\n",
    "columns_to_fill = [  'TotalBathrooms','TotalRooms']\n",
    "    # Iterate over columns and fill missing values if the column exists\n",
    "for column in columns_to_fill:\n",
    "    if column in combined_data.columns:\n",
    "        combined_data[column].fillna(combined_data[column].mean().round(2), inplace=True)"
   ]
  },
  {
   "cell_type": "code",
   "execution_count": 16,
   "id": "8e1a365e-f349-4f07-8ac4-450c5d89b87b",
   "metadata": {
    "tags": []
   },
   "outputs": [],
   "source": [
    "# Split the combined dataset back into training and test sets\n",
    "train_data = combined_data[:len(train_data)]\n",
    "test_data = combined_data[len(train_data):]"
   ]
  },
  {
   "cell_type": "code",
   "execution_count": 17,
   "id": "32206c19-1619-493d-bcd3-afbc05e2bed7",
   "metadata": {
    "tags": []
   },
   "outputs": [
    {
     "name": "stdout",
     "output_type": "stream",
     "text": [
      "Index([], dtype='object')\n",
      "<class 'pandas.core.frame.DataFrame'>\n",
      "RangeIndex: 1460 entries, 0 to 1459\n",
      "Columns: 315 entries, Id to MSSubClass_190\n",
      "dtypes: bool(16), float64(13), int64(286)\n",
      "memory usage: 3.4 MB\n",
      "None\n",
      "<class 'pandas.core.frame.DataFrame'>\n",
      "RangeIndex: 1459 entries, 1460 to 2918\n",
      "Columns: 315 entries, Id to MSSubClass_190\n",
      "dtypes: bool(16), float64(13), int64(286)\n",
      "memory usage: 3.4 MB\n",
      "None\n"
     ]
    }
   ],
   "source": [
    "\n",
    "X_test = test_data.drop(['SalePrice'], axis=1)\n",
    "\n",
    "#X_test.dropna(inplace=True)\n",
    "X_train = train_data.drop(['SalePrice'], axis=1)\n",
    "y_train = train_data['SalePrice']\n",
    "# Print columns with NaN values\n",
    "nan_columns = X_test.columns[X_test.isnull().sum() > 0]\n",
    "print(nan_columns)\n",
    "print(X_train.info())\n",
    "print(X_test.info())"
   ]
  },
  {
   "cell_type": "code",
   "execution_count": 21,
   "id": "a24165d9-0adb-4aa6-90f6-193206881d28",
   "metadata": {
    "tags": []
   },
   "outputs": [
    {
     "name": "stdout",
     "output_type": "stream",
     "text": [
      "env: LOKY_MAX_CPU_COUNT=<number_of_cores>\n"
     ]
    }
   ],
   "source": [
    "%env LOKY_MAX_CPU_COUNT=<number_of_cores>\n"
   ]
  },
  {
   "cell_type": "code",
   "execution_count": 22,
   "id": "971f3818-458c-4127-a834-5f514783e6e6",
   "metadata": {
    "tags": []
   },
   "outputs": [],
   "source": [
    "# Fit the model on the training data\n",
    "#model = LinearRegression()\n",
    "#model = RandomForestRegressor(n_estimators=200, random_state=123)\n",
    "model = KNeighborsRegressor(n_neighbors=5)\n",
    "\n",
    "model.fit(X_train, y_train)\n",
    "# Make predictions on the test data\n",
    "predictions = model.predict(X_test)\n",
    "predictions_df = pd.DataFrame({'Id': X_test['Id'], 'SalePrice': predictions})\n",
    "# Write the DataFrame to a CSV file\n",
    "predictions_df.to_csv('./predictions.csv', index=False)"
   ]
  },
  {
   "cell_type": "code",
   "execution_count": null,
   "id": "b37a942b-39dd-47c6-9ce0-0e1599f95c17",
   "metadata": {},
   "outputs": [],
   "source": []
  }
 ],
 "metadata": {
  "kernelspec": {
   "display_name": "Python 3 (ipykernel)",
   "language": "python",
   "name": "python3"
  },
  "language_info": {
   "codemirror_mode": {
    "name": "ipython",
    "version": 3
   },
   "file_extension": ".py",
   "mimetype": "text/x-python",
   "name": "python",
   "nbconvert_exporter": "python",
   "pygments_lexer": "ipython3",
   "version": "3.11.5"
  }
 },
 "nbformat": 4,
 "nbformat_minor": 5
}
